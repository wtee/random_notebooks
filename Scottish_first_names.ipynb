{
 "cells": [
  {
   "cell_type": "code",
   "execution_count": 11,
   "metadata": {},
   "outputs": [],
   "source": [
    "# This notebook is for parsing first name data published by the government \n",
    "# of Scotland and released under the Open Government License, v. 3.\n",
    "\n",
    "from itertools import chain\n",
    "import pandas as pd"
   ]
  },
  {
   "cell_type": "code",
   "execution_count": 5,
   "metadata": {},
   "outputs": [],
   "source": [
    "f1 = pd.read_csv(\"/home/wt/Downloads/Names/babies-first-names-17-historical-17.csv\", encoding=\"ISO-8859-1\")\n",
    "f2 = pd.read_csv(\"/home/wt/Downloads/Names/babies-first-names-2007.csv\", encoding=\"ISO-8859-1\")\n",
    "f3 = pd.read_csv(\"/home/wt/Downloads/Names/babies-first-names-1997.csv\", encoding=\"ISO-8859-1\")\n",
    "f4 = pd.read_csv(\"/home/wt/Downloads/Names/babies-first-names-1987.csv\", encoding=\"ISO-8859-1\")\n",
    "f5 = pd.read_csv(\"/home/wt/Downloads/Names/babies-first-names-1977.csv\", encoding=\"ISO-8859-1\")\n"
   ]
  },
  {
   "cell_type": "code",
   "execution_count": 12,
   "metadata": {},
   "outputs": [],
   "source": [
    "male_first_names = set(chain(f1[\"Boys Name\"], f2[\"Boys Name\"], f3[\"Boys Name\"], f4[\"Boys Name\"], f5[\"Boys Name\"]))\n",
    "female_first_names = set(chain(f1[\"Girls Name\"], f2[\"Girls Name\"], f3[\"Girls Name\"], f4[\"Girls Name\"], f5[\"Girls Name\"]))\n",
    "both_first_names = male_first_names | female_first_names"
   ]
  },
  {
   "cell_type": "code",
   "execution_count": 13,
   "metadata": {},
   "outputs": [],
   "source": [
    "with open(\"/home/wt/Downloads/Names/scottish_first_names.py\", \"w\", encoding=\"utf8\") as fh:\n",
    "    fh.write(f\"female_first_names = { str(female_first_names) }\\n\")\n",
    "    fh.write(f\"male_first_names = { str(male_first_names) }\\n\")\n",
    "    fh.write(f\"no_gender_first_names = { str(both_first_names) }\\n\")"
   ]
  },
  {
   "cell_type": "code",
   "execution_count": null,
   "metadata": {},
   "outputs": [],
   "source": []
  }
 ],
 "metadata": {
  "kernelspec": {
   "display_name": "Python 3",
   "language": "python",
   "name": "python3"
  },
  "language_info": {
   "codemirror_mode": {
    "name": "ipython",
    "version": 3
   },
   "file_extension": ".py",
   "mimetype": "text/x-python",
   "name": "python",
   "nbconvert_exporter": "python",
   "pygments_lexer": "ipython3",
   "version": "3.7.1"
  }
 },
 "nbformat": 4,
 "nbformat_minor": 2
}
