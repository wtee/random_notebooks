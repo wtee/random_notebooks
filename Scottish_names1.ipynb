{
 "cells": [
  {
   "cell_type": "code",
   "execution_count": 2,
   "metadata": {},
   "outputs": [],
   "source": [
    "# This notebook is for parsing first and last name data published by the government \n",
    "# of Scotland and released under the Open Government License, v. 3.\n",
    "import pandas as pd"
   ]
  },
  {
   "cell_type": "code",
   "execution_count": 16,
   "metadata": {},
   "outputs": [],
   "source": [
    "first_name_data = pd.read_csv(\"/home/wt/Downloads/Names/babies-first-names-17-historical-17.csv\", encoding=\"ISO-8859-1\")\n",
    "last_name_data  = pd.read_csv(\"/home/wt/Downloads/Names/most-com-surnames-bmd-registers-17.csv\", encoding=\"ISO-8859-1\")"
   ]
  },
  {
   "cell_type": "code",
   "execution_count": 34,
   "metadata": {},
   "outputs": [],
   "source": [
    "male_first_names = set(first_name_data[\"Boys Name\"])\n",
    "female_first_names = set(first_name_data[\"Girls Name\"])\n",
    "both_first_names = male_first_names & female_first_names\n",
    "surnames = set() \n",
    "\n",
    "# Convert names like SMITH, MACLEOD, and MCLEAN to Smith,\n",
    "# MacLeod and McLean\n",
    "for name in last_name_data[\"Surname\"]:\n",
    "    # Rule out two NaNs in data\n",
    "    if type(name) == str:\n",
    "        name = name.title()\n",
    "        if name.startswith(\"Mac\"):\n",
    "            name = name[:3] + name[3].upper() + name[4:]\n",
    "            \n",
    "        elif name.startswith(\"Mc\"):\n",
    "            name = name[:2] + name[2].upper() + name[3:]\n",
    "        surnames.add(name)\n"
   ]
  },
  {
   "cell_type": "code",
   "execution_count": 36,
   "metadata": {},
   "outputs": [],
   "source": [
    "with open(\"/home/wt/Programming/Projects/random_name_pyramid/random_names/random_names/views/scottish.py\", \"w\", encoding=\"utf8\") as fh:\n",
    "    fh.write(f\"female_first_names = { str(female_first_names) }\\n\")\n",
    "    fh.write(f\"male_first_names = { str(male_first_names) }\\n\")\n",
    "    fh.write(f\"no_gender_first_names = { str(both_first_names) }\\n\")\n",
    "    fh.write(f\"surnames = { str(surnames) }\\n\")"
   ]
  },
  {
   "cell_type": "code",
   "execution_count": null,
   "metadata": {},
   "outputs": [],
   "source": []
  }
 ],
 "metadata": {
  "kernelspec": {
   "display_name": "Python 3",
   "language": "python",
   "name": "python3"
  },
  "language_info": {
   "codemirror_mode": {
    "name": "ipython",
    "version": 3
   },
   "file_extension": ".py",
   "mimetype": "text/x-python",
   "name": "python",
   "nbconvert_exporter": "python",
   "pygments_lexer": "ipython3",
   "version": "3.7.1"
  }
 },
 "nbformat": 4,
 "nbformat_minor": 2
}
