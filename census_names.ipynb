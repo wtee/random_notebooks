{
 "cells": [
  {
   "cell_type": "code",
   "execution_count": 1,
   "metadata": {},
   "outputs": [],
   "source": [
    "import pandas as pd\n",
    "\n",
    "# This notebook is for processing the raw text output of Census names into \n",
    "# Python sets. The surnames file is drawn from the 2010 Census while the \n",
    "# two sets of first names are drawn from the 1990 Census."
   ]
  },
  {
   "cell_type": "code",
   "execution_count": 3,
   "metadata": {},
   "outputs": [],
   "source": [
    "df = pd.read_csv(\"~/Downloads/census_names/Surnames_2010Census.csv\")"
   ]
  },
  {
   "cell_type": "code",
   "execution_count": 11,
   "metadata": {},
   "outputs": [],
   "source": [
    "surnames = set([x.strip().title() for x in df['name'] if type(x) != float])"
   ]
  },
  {
   "cell_type": "code",
   "execution_count": 15,
   "metadata": {},
   "outputs": [],
   "source": [
    "with open('/home/wt/Downloads/census_names/surnames_2010.txt', 'w', encoding='utf8') as fh:\n",
    "    fh.write(str(surnames))"
   ]
  },
  {
   "cell_type": "code",
   "execution_count": 25,
   "metadata": {},
   "outputs": [],
   "source": [
    "with open('/home/wt/Downloads/census_names/1990_dist.female.first', 'r') as fh:\n",
    "    f_names = set([x.split(' ')[0].strip().title() for x in fh.readlines()])"
   ]
  },
  {
   "cell_type": "code",
   "execution_count": 28,
   "metadata": {},
   "outputs": [],
   "source": [
    "with open('/home/wt/Downloads/census_names/female_first_names_1990.txt', 'w', encoding='utf8') as fh:\n",
    "    fh.write(str(f_names))"
   ]
  },
  {
   "cell_type": "code",
   "execution_count": 29,
   "metadata": {},
   "outputs": [],
   "source": [
    "with open('/home/wt/Downloads/census_names/1990_dist.male.first', 'r') as fh:\n",
    "    m_names = set([x.split(' ')[0].strip().title() for x in fh.readlines()])"
   ]
  },
  {
   "cell_type": "code",
   "execution_count": 30,
   "metadata": {},
   "outputs": [],
   "source": [
    "with open('/home/wt/Downloads/census_names/male_first_names_1990.txt', 'w', encoding='utf8') as fh:\n",
    "    fh.write(str(m_names))"
   ]
  },
  {
   "cell_type": "code",
   "execution_count": 31,
   "metadata": {},
   "outputs": [],
   "source": [
    "both = f_names & m_names"
   ]
  },
  {
   "cell_type": "code",
   "execution_count": 35,
   "metadata": {},
   "outputs": [],
   "source": [
    "with open('/home/wt/Downloads/census_names/either_first_names_1990.txt', 'w', encoding='utf8') as fh:\n",
    "    fh.write(str(both))"
   ]
  },
  {
   "cell_type": "code",
   "execution_count": null,
   "metadata": {},
   "outputs": [],
   "source": []
  }
 ],
 "metadata": {
  "kernelspec": {
   "display_name": "Python 3",
   "language": "python",
   "name": "python3"
  },
  "language_info": {
   "codemirror_mode": {
    "name": "ipython",
    "version": 3
   },
   "file_extension": ".py",
   "mimetype": "text/x-python",
   "name": "python",
   "nbconvert_exporter": "python",
   "pygments_lexer": "ipython3",
   "version": "3.7.1"
  }
 },
 "nbformat": 4,
 "nbformat_minor": 2
}
